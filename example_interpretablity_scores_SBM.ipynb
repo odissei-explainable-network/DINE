{
 "cells": [
  {
   "cell_type": "code",
   "execution_count": 1,
   "metadata": {},
   "outputs": [],
   "source": [
    "import numpy as np\n",
    "import matplotlib.pyplot as plt"
   ]
  },
  {
   "cell_type": "code",
   "execution_count": 2,
   "metadata": {},
   "outputs": [],
   "source": [
    "import os, gzip\n",
    "os.environ['MKL_THREADING_LAYER'] = 'GNU'"
   ]
  },
  {
   "cell_type": "code",
   "execution_count": 3,
   "metadata": {},
   "outputs": [],
   "source": [
    "DATASET = 'stochastic_block_model'\n",
    "D_in = 8\n",
    "D_out = 8"
   ]
  },
  {
   "cell_type": "code",
   "execution_count": 4,
   "metadata": {},
   "outputs": [
    {
     "name": "stdout",
     "output_type": "stream",
     "text": [
      "Computing transition probabilities: 100%|████| 80/80 [00:00<00:00, 12041.35it/s]\n",
      "Generating walks (CPU: 1): 100%|██████████████| 20/20 [00:00<00:00, 1062.01it/s]\n",
      "Training\n",
      "Dumping the DeepWalk embeddings\n"
     ]
    }
   ],
   "source": [
    "!python3 deepwalk.py --emb-dim 8 --input data/stochastic_block_model.edgelist.gz --output embs/stochastic_block_model_DeepWalk_8dims.txt.gz"
   ]
  },
  {
   "cell_type": "code",
   "execution_count": 5,
   "metadata": {},
   "outputs": [
    {
     "name": "stdout",
     "output_type": "stream",
     "text": [
      "Loading data from embs/stochastic_block_model_DeepWalk_8dims.txt.gz\n",
      "Loaded data. #shape = (80, 8)\n",
      " #nodes = 80 \n",
      "Building model \n",
      "After epoch 0, Rec. Loss = 0.84639, Size Loss = 0.00824, Orth. Loss = 0.01996, and Total = 0.87459\n",
      "After epoch 500, Rec. Loss = 0.00481, Size Loss = 0.00002, Orth. Loss = 0.00843, and Total = 0.01326\n",
      "After epoch 1000, Rec. Loss = 0.00507, Size Loss = 0.00001, Orth. Loss = 0.00163, and Total = 0.00671\n",
      "After epoch 1500, Rec. Loss = 0.00496, Size Loss = 0.00001, Orth. Loss = 0.00125, and Total = 0.00622\n",
      "After epoch 2000, Rec. Loss = 0.00498, Size Loss = 0.00001, Orth. Loss = 0.00108, and Total = 0.00607\n",
      "Dumping the DINE embeddings\n",
      "shape (80, 8)\n"
     ]
    }
   ],
   "source": [
    "!python3 dine.py --emb-dim 8 --input embs/stochastic_block_model_DeepWalk_8dims.txt.gz --output embs/stochastic_block_model_DeepWalk_8dims.Dine_8dims.txt.gz"
   ]
  },
  {
   "cell_type": "code",
   "execution_count": null,
   "metadata": {},
   "outputs": [],
   "source": []
  }
 ],
 "metadata": {
  "kernelspec": {
   "display_name": "netaudit_updated",
   "language": "python",
   "name": "python3"
  },
  "language_info": {
   "codemirror_mode": {
    "name": "ipython",
    "version": 3
   },
   "file_extension": ".py",
   "mimetype": "text/x-python",
   "name": "python",
   "nbconvert_exporter": "python",
   "pygments_lexer": "ipython3",
   "version": "3.12.3"
  }
 },
 "nbformat": 4,
 "nbformat_minor": 2
}
